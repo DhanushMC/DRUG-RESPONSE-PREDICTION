{
 "cells": [
  {
   "cell_type": "markdown",
   "metadata": {},
   "source": [
    "## ***INTELLIGENCE IN BIOLOGICAL SYSTEMS-2-[22BIO211]***\n",
    "\n",
    "## **END SEMISTER PROJECT**"
   ]
  },
  {
   "cell_type": "markdown",
   "metadata": {},
   "source": [
    "## **Batch-B**\n",
    "\n",
    "### **MC DHANUSH      -[CB.EN.U4AIE22139]**\n",
    "\n"
   ]
  },
  {
   "cell_type": "markdown",
   "metadata": {},
   "source": [
    "## **TOPIC:**\n",
    "## **Drug Response Prediction using Logistic & Random Forest Regression**"
   ]
  },
  {
   "cell_type": "markdown",
   "metadata": {},
   "source": [
    "## **1. Importing Required Libraries**"
   ]
  },
  {
   "cell_type": "code",
   "execution_count": 5,
   "metadata": {},
   "outputs": [],
   "source": [
    "import pandas as pd\n",
    "import numpy as np\n",
    "from sklearn.model_selection import train_test_split, cross_val_score\n",
    "from sklearn.linear_model import LogisticRegression\n",
    "from sklearn.ensemble import RandomForestClassifier\n",
    "from sklearn.preprocessing import LabelEncoder, StandardScaler\n",
    "from sklearn.metrics import accuracy_score, confusion_matrix, classification_report\n",
    "import matplotlib.pyplot as plt\n"
   ]
  },
  {
   "cell_type": "markdown",
   "metadata": {},
   "source": [
    "## **2. Loading the Dataset**"
   ]
  },
  {
   "cell_type": "code",
   "execution_count": 6,
   "metadata": {},
   "outputs": [],
   "source": [
    "data = pd.read_csv(\"PANCANCER_ANOVA_Preprocessed.csv\")\n"
   ]
  },
  {
   "cell_type": "markdown",
   "metadata": {},
   "source": [
    "## **3. Understanding the Data**"
   ]
  },
  {
   "cell_type": "code",
   "execution_count": 7,
   "metadata": {},
   "outputs": [
    {
     "data": {
      "text/plain": [
       "(200920, 20)"
      ]
     },
     "execution_count": 7,
     "metadata": {},
     "output_type": "execute_result"
    }
   ],
   "source": [
    "data.shape"
   ]
  },
  {
   "cell_type": "code",
   "execution_count": 8,
   "metadata": {},
   "outputs": [
    {
     "data": {
      "text/html": [
       "<div>\n",
       "<style scoped>\n",
       "    .dataframe tbody tr th:only-of-type {\n",
       "        vertical-align: middle;\n",
       "    }\n",
       "\n",
       "    .dataframe tbody tr th {\n",
       "        vertical-align: top;\n",
       "    }\n",
       "\n",
       "    .dataframe thead th {\n",
       "        text-align: right;\n",
       "    }\n",
       "</style>\n",
       "<table border=\"1\" class=\"dataframe\">\n",
       "  <thead>\n",
       "    <tr style=\"text-align: right;\">\n",
       "      <th></th>\n",
       "      <th>Drug name</th>\n",
       "      <th>Drug ID</th>\n",
       "      <th>Drug target</th>\n",
       "      <th>Target Pathway</th>\n",
       "      <th>Feature Name</th>\n",
       "      <th>n_feature_pos</th>\n",
       "      <th>n_feature_neg</th>\n",
       "      <th>ic50_effect_size</th>\n",
       "      <th>log_ic50_mean_pos</th>\n",
       "      <th>log_ic50_mean_neg</th>\n",
       "      <th>feature_ic50_t_pval</th>\n",
       "      <th>feature_delta_mean_ic50</th>\n",
       "      <th>feature_pos_ic50_var</th>\n",
       "      <th>feature_neg_ic50_var</th>\n",
       "      <th>feature_pval</th>\n",
       "      <th>tissue_pval</th>\n",
       "      <th>msi_pval</th>\n",
       "      <th>fdr</th>\n",
       "      <th>Tissue Type</th>\n",
       "      <th>Screening Set</th>\n",
       "    </tr>\n",
       "  </thead>\n",
       "  <tbody>\n",
       "    <tr>\n",
       "      <th>0</th>\n",
       "      <td>73</td>\n",
       "      <td>-1.535951</td>\n",
       "      <td>165</td>\n",
       "      <td>7</td>\n",
       "      <td>0</td>\n",
       "      <td>-0.343261</td>\n",
       "      <td>0.974287</td>\n",
       "      <td>1.448962</td>\n",
       "      <td>-1.768609</td>\n",
       "      <td>-2.176244</td>\n",
       "      <td>-1.222666</td>\n",
       "      <td>1.928038</td>\n",
       "      <td>0.494846</td>\n",
       "      <td>0.999705</td>\n",
       "      <td>-1.348527</td>\n",
       "      <td>-0.05763</td>\n",
       "      <td>-0.839597</td>\n",
       "      <td>-0.524564</td>\n",
       "      <td>0</td>\n",
       "      <td>0</td>\n",
       "    </tr>\n",
       "    <tr>\n",
       "      <th>1</th>\n",
       "      <td>73</td>\n",
       "      <td>-1.535951</td>\n",
       "      <td>165</td>\n",
       "      <td>7</td>\n",
       "      <td>1</td>\n",
       "      <td>-0.507105</td>\n",
       "      <td>1.030056</td>\n",
       "      <td>0.566544</td>\n",
       "      <td>-2.482964</td>\n",
       "      <td>-2.166890</td>\n",
       "      <td>0.027389</td>\n",
       "      <td>-1.616561</td>\n",
       "      <td>1.362291</td>\n",
       "      <td>0.996551</td>\n",
       "      <td>1.339069</td>\n",
       "      <td>-0.05763</td>\n",
       "      <td>-0.837479</td>\n",
       "      <td>0.850272</td>\n",
       "      <td>0</td>\n",
       "      <td>0</td>\n",
       "    </tr>\n",
       "    <tr>\n",
       "      <th>2</th>\n",
       "      <td>73</td>\n",
       "      <td>-1.535951</td>\n",
       "      <td>165</td>\n",
       "      <td>7</td>\n",
       "      <td>2</td>\n",
       "      <td>-0.434285</td>\n",
       "      <td>1.005269</td>\n",
       "      <td>-0.448762</td>\n",
       "      <td>-2.072630</td>\n",
       "      <td>-2.170429</td>\n",
       "      <td>0.431462</td>\n",
       "      <td>0.410572</td>\n",
       "      <td>0.333428</td>\n",
       "      <td>1.008753</td>\n",
       "      <td>1.291244</td>\n",
       "      <td>-0.05763</td>\n",
       "      <td>-0.837483</td>\n",
       "      <td>0.835802</td>\n",
       "      <td>0</td>\n",
       "      <td>0</td>\n",
       "    </tr>\n",
       "    <tr>\n",
       "      <th>3</th>\n",
       "      <td>73</td>\n",
       "      <td>-1.535951</td>\n",
       "      <td>165</td>\n",
       "      <td>7</td>\n",
       "      <td>3</td>\n",
       "      <td>-0.579925</td>\n",
       "      <td>1.054842</td>\n",
       "      <td>3.469465</td>\n",
       "      <td>-1.432841</td>\n",
       "      <td>-2.171400</td>\n",
       "      <td>-0.343689</td>\n",
       "      <td>3.549139</td>\n",
       "      <td>1.703362</td>\n",
       "      <td>0.993222</td>\n",
       "      <td>-0.590413</td>\n",
       "      <td>-0.05763</td>\n",
       "      <td>-0.838159</td>\n",
       "      <td>-0.032559</td>\n",
       "      <td>0</td>\n",
       "      <td>0</td>\n",
       "    </tr>\n",
       "    <tr>\n",
       "      <th>4</th>\n",
       "      <td>73</td>\n",
       "      <td>-1.535951</td>\n",
       "      <td>165</td>\n",
       "      <td>7</td>\n",
       "      <td>4</td>\n",
       "      <td>-0.234031</td>\n",
       "      <td>0.937107</td>\n",
       "      <td>-1.022714</td>\n",
       "      <td>-2.165906</td>\n",
       "      <td>-2.169692</td>\n",
       "      <td>1.355314</td>\n",
       "      <td>-0.049901</td>\n",
       "      <td>0.133200</td>\n",
       "      <td>1.022239</td>\n",
       "      <td>-0.152675</td>\n",
       "      <td>-0.05763</td>\n",
       "      <td>-0.837866</td>\n",
       "      <td>0.307882</td>\n",
       "      <td>0</td>\n",
       "      <td>0</td>\n",
       "    </tr>\n",
       "  </tbody>\n",
       "</table>\n",
       "</div>"
      ],
      "text/plain": [
       "   Drug name   Drug ID  Drug target  Target Pathway  Feature Name  \\\n",
       "0         73 -1.535951          165               7             0   \n",
       "1         73 -1.535951          165               7             1   \n",
       "2         73 -1.535951          165               7             2   \n",
       "3         73 -1.535951          165               7             3   \n",
       "4         73 -1.535951          165               7             4   \n",
       "\n",
       "   n_feature_pos  n_feature_neg  ic50_effect_size  log_ic50_mean_pos  \\\n",
       "0      -0.343261       0.974287          1.448962          -1.768609   \n",
       "1      -0.507105       1.030056          0.566544          -2.482964   \n",
       "2      -0.434285       1.005269         -0.448762          -2.072630   \n",
       "3      -0.579925       1.054842          3.469465          -1.432841   \n",
       "4      -0.234031       0.937107         -1.022714          -2.165906   \n",
       "\n",
       "   log_ic50_mean_neg  feature_ic50_t_pval  feature_delta_mean_ic50  \\\n",
       "0          -2.176244            -1.222666                 1.928038   \n",
       "1          -2.166890             0.027389                -1.616561   \n",
       "2          -2.170429             0.431462                 0.410572   \n",
       "3          -2.171400            -0.343689                 3.549139   \n",
       "4          -2.169692             1.355314                -0.049901   \n",
       "\n",
       "   feature_pos_ic50_var  feature_neg_ic50_var  feature_pval  tissue_pval  \\\n",
       "0              0.494846              0.999705     -1.348527     -0.05763   \n",
       "1              1.362291              0.996551      1.339069     -0.05763   \n",
       "2              0.333428              1.008753      1.291244     -0.05763   \n",
       "3              1.703362              0.993222     -0.590413     -0.05763   \n",
       "4              0.133200              1.022239     -0.152675     -0.05763   \n",
       "\n",
       "   msi_pval       fdr  Tissue Type  Screening Set  \n",
       "0 -0.839597 -0.524564            0              0  \n",
       "1 -0.837479  0.850272            0              0  \n",
       "2 -0.837483  0.835802            0              0  \n",
       "3 -0.838159 -0.032559            0              0  \n",
       "4 -0.837866  0.307882            0              0  "
      ]
     },
     "execution_count": 8,
     "metadata": {},
     "output_type": "execute_result"
    }
   ],
   "source": [
    "data.head()"
   ]
  },
  {
   "cell_type": "code",
   "execution_count": 9,
   "metadata": {},
   "outputs": [
    {
     "data": {
      "text/plain": [
       "Drug name                     288\n",
       "Drug ID                       297\n",
       "Drug target                   186\n",
       "Target Pathway                 25\n",
       "Feature Name                  692\n",
       "n_feature_pos                 448\n",
       "n_feature_neg                 758\n",
       "ic50_effect_size           194701\n",
       "log_ic50_mean_pos          194701\n",
       "log_ic50_mean_neg          194701\n",
       "feature_ic50_t_pval        194683\n",
       "feature_delta_mean_ic50    194701\n",
       "feature_pos_ic50_var       194701\n",
       "feature_neg_ic50_var       194701\n",
       "feature_pval               194695\n",
       "tissue_pval                 17468\n",
       "msi_pval                   194700\n",
       "fdr                         31808\n",
       "Tissue Type                     1\n",
       "Screening Set                   1\n",
       "dtype: int64"
      ]
     },
     "execution_count": 9,
     "metadata": {},
     "output_type": "execute_result"
    }
   ],
   "source": [
    "data.nunique() # Displays total number of unique elements in each column.\n"
   ]
  },
  {
   "cell_type": "markdown",
   "metadata": {},
   "source": [
    "## **4. Selecting Relevant Features**"
   ]
  },
  {
   "cell_type": "code",
   "execution_count": 10,
   "metadata": {},
   "outputs": [],
   "source": [
    "selected_features = ['Drug target', 'Target Pathway', 'Feature Name', 'ic50_effect_size', 'log_ic50_mean_pos', 'log_ic50_mean_neg']\n",
    "X = data[selected_features].copy()\n",
    "y = data['Drug name']\n"
   ]
  },
  {
   "cell_type": "markdown",
   "metadata": {},
   "source": [
    "Relevant features are selected and stored in X, while the target variable ('Drug name') is stored in y."
   ]
  },
  {
   "cell_type": "markdown",
   "metadata": {},
   "source": [
    "## **5. Encoding Categorical Variables**"
   ]
  },
  {
   "cell_type": "code",
   "execution_count": 11,
   "metadata": {},
   "outputs": [],
   "source": [
    "encoder_features = LabelEncoder()\n",
    "encoder_drug_name = LabelEncoder()\n",
    "\n",
    "for col in X.select_dtypes(include=['object']).columns:\n",
    "    X[col] = encoder_features.fit_transform(X[col])\n",
    "\n",
    "y = encoder_drug_name.fit_transform(y)\n"
   ]
  },
  {
   "cell_type": "markdown",
   "metadata": {},
   "source": [
    "Categorical features and the target variable are encoded into numerical values using LabelEncoder"
   ]
  },
  {
   "cell_type": "markdown",
   "metadata": {},
   "source": [
    "## **6. Normalizing Numerical Features**"
   ]
  },
  {
   "cell_type": "code",
   "execution_count": 12,
   "metadata": {},
   "outputs": [],
   "source": [
    "scaler = StandardScaler()\n",
    "numerical_cols = X.select_dtypes(include=[np.number]).columns\n",
    "X[numerical_cols] = scaler.fit_transform(X[numerical_cols])\n"
   ]
  },
  {
   "cell_type": "markdown",
   "metadata": {},
   "source": [
    "Numerical features are normalized using StandardScaler to standardize the data."
   ]
  },
  {
   "cell_type": "markdown",
   "metadata": {},
   "source": [
    "## **7. Splitting the Dataset**"
   ]
  },
  {
   "cell_type": "code",
   "execution_count": 13,
   "metadata": {},
   "outputs": [
    {
     "name": "stdout",
     "output_type": "stream",
     "text": [
      "Training set count: 120552\n",
      "Testing set count: 80368\n"
     ]
    }
   ],
   "source": [
    "X_train, X_test, y_train, y_test = train_test_split(X, y, test_size=0.4, random_state=42)\n",
    "\n",
    "print(\"Training set count:\", len(X_train))\n",
    "print(\"Testing set count:\", len(X_test))\n"
   ]
  },
  {
   "cell_type": "markdown",
   "metadata": {},
   "source": [
    "The dataset is split into training and testing sets with a 60-40 ratio using train_test_split."
   ]
  },
  {
   "cell_type": "markdown",
   "metadata": {},
   "source": [
    "## **8. Training and Evaluating Logistic Regression Model**"
   ]
  },
  {
   "cell_type": "code",
   "execution_count": 14,
   "metadata": {},
   "outputs": [
    {
     "name": "stdout",
     "output_type": "stream",
     "text": [
      "Logistic Regression Model Accuracy: 0.7751592673700975\n"
     ]
    }
   ],
   "source": [
    "logistic_model = LogisticRegression(max_iter=1000, random_state=42)\n",
    "logistic_model.fit(X_train, y_train)\n",
    "\n",
    "y_pred_logistic = logistic_model.predict(X_test)\n",
    "accuracy_logistic = accuracy_score(y_test, y_pred_logistic)\n",
    "print(\"Logistic Regression Model Accuracy:\", accuracy_logistic)\n"
   ]
  },
  {
   "cell_type": "markdown",
   "metadata": {},
   "source": [
    "## **9. Training and Evaluating Random Forest Model**"
   ]
  },
  {
   "cell_type": "code",
   "execution_count": 15,
   "metadata": {},
   "outputs": [
    {
     "name": "stdout",
     "output_type": "stream",
     "text": [
      "Random Forest Model Accuracy: 0.997013736810671\n"
     ]
    }
   ],
   "source": [
    "rf_model = RandomForestClassifier(n_estimators=100, random_state=42)\n",
    "rf_model.fit(X_train, y_train)\n",
    "\n",
    "y_pred_rf = rf_model.predict(X_test)\n",
    "accuracy_rf = accuracy_score(y_test, y_pred_rf)\n",
    "print(\"Random Forest Model Accuracy:\", accuracy_rf)\n"
   ]
  },
  {
   "cell_type": "markdown",
   "metadata": {},
   "source": [
    "## **10. Cross-Validation**"
   ]
  },
  {
   "cell_type": "code",
   "execution_count": 16,
   "metadata": {},
   "outputs": [],
   "source": [
    "cv_scores = cross_val_score(rf_model, X, y, cv=5)\n",
    "print(\"Cross-validation scores:\", cv_scores)\n",
    "print(\"Mean cross-validation score:\", np.mean(cv_scores))\n"
   ]
  },
  {
   "cell_type": "markdown",
   "metadata": {},
   "source": [
    "Cross-validation is performed on the random forest model to evaluate its performance more  vigorously."
   ]
  },
  {
   "cell_type": "markdown",
   "metadata": {},
   "source": [
    "## **11. Confusion Matrix and Classification Report**"
   ]
  },
  {
   "cell_type": "code",
   "execution_count": null,
   "metadata": {},
   "outputs": [
    {
     "name": "stdout",
     "output_type": "stream",
     "text": [
      "Confusion Matrix:\n",
      " [[255   0   0 ...   0   0   0]\n",
      " [  0 277   0 ...   0   0   0]\n",
      " [  0   0 289 ...   0   0   0]\n",
      " ...\n",
      " [  0   0   0 ... 280   0   0]\n",
      " [  0   0   0 ...   0 269   0]\n",
      " [  0   0   0 ...   0   0 275]]\n",
      "Classification Report:\n",
      "               precision    recall  f1-score   support\n",
      "\n",
      "           0       0.93      0.91      0.92       280\n",
      "           1       0.96      0.93      0.94       299\n",
      "           2       0.99      1.00      0.99       289\n",
      "           3       1.00      1.00      1.00       292\n",
      "           4       1.00      1.00      1.00       271\n",
      "           5       0.92      0.95      0.94       282\n",
      "           6       0.98      0.97      0.97       272\n",
      "           7       0.99      1.00      1.00       275\n",
      "           8       0.98      0.99      0.99       285\n",
      "           9       0.97      0.97      0.97       256\n",
      "          10       0.97      0.98      0.97       251\n",
      "          11       1.00      0.99      1.00       286\n",
      "          12       1.00      1.00      1.00       304\n",
      "          13       0.95      0.94      0.95       290\n",
      "          14       0.97      0.96      0.97       275\n",
      "          15       1.00      1.00      1.00       270\n",
      "          16       1.00      1.00      1.00       281\n",
      "          17       1.00      1.00      1.00       268\n",
      "          18       1.00      1.00      1.00       274\n",
      "          19       1.00      1.00      1.00       289\n",
      "          20       1.00      1.00      1.00       266\n",
      "          21       1.00      1.00      1.00       285\n",
      "          22       1.00      1.00      1.00       268\n",
      "          23       1.00      1.00      1.00       279\n",
      "          24       1.00      1.00      1.00       280\n",
      "          25       1.00      1.00      1.00       270\n",
      "          26       1.00      1.00      1.00       294\n",
      "          27       1.00      1.00      1.00       275\n",
      "          28       1.00      1.00      1.00       290\n",
      "          29       1.00      1.00      1.00       293\n",
      "          30       1.00      1.00      1.00       266\n",
      "          31       1.00      1.00      1.00       268\n",
      "          32       1.00      1.00      1.00       254\n",
      "          33       1.00      1.00      1.00       270\n",
      "          34       1.00      1.00      1.00       186\n",
      "          35       1.00      1.00      1.00       303\n",
      "          36       1.00      1.00      1.00       266\n",
      "          37       1.00      1.00      1.00       301\n",
      "          38       1.00      1.00      1.00       271\n",
      "          39       1.00      1.00      1.00       535\n",
      "          40       1.00      1.00      1.00       269\n",
      "          41       1.00      1.00      1.00       278\n",
      "          42       1.00      1.00      1.00       271\n",
      "          43       1.00      1.00      1.00       281\n",
      "          44       1.00      1.00      1.00       282\n",
      "          45       1.00      1.00      1.00       267\n",
      "          46       1.00      1.00      1.00       285\n",
      "          47       1.00      1.00      1.00       263\n",
      "          48       1.00      1.00      1.00       265\n",
      "          49       1.00      1.00      1.00       278\n",
      "          50       1.00      0.99      1.00       270\n",
      "          51       1.00      1.00      1.00       273\n",
      "          52       1.00      1.00      1.00       284\n",
      "          53       1.00      1.00      1.00       270\n",
      "          54       0.99      0.99      0.99       273\n",
      "          55       0.99      0.99      0.99       269\n",
      "          56       1.00      1.00      1.00       280\n",
      "          57       1.00      1.00      1.00       161\n",
      "          58       1.00      1.00      1.00       185\n",
      "          59       1.00      1.00      1.00       251\n",
      "          60       1.00      1.00      1.00       276\n",
      "          61       1.00      1.00      1.00       250\n",
      "          62       1.00      1.00      1.00       264\n",
      "          63       1.00      1.00      1.00       304\n",
      "          64       1.00      1.00      1.00       255\n",
      "          65       1.00      1.00      1.00       196\n",
      "          66       1.00      1.00      1.00       280\n",
      "          67       1.00      1.00      1.00       259\n",
      "          68       1.00      1.00      1.00       264\n",
      "          69       1.00      1.00      1.00       185\n",
      "          70       1.00      1.00      1.00       265\n",
      "          71       1.00      1.00      1.00       268\n",
      "          72       1.00      1.00      1.00       269\n",
      "          73       1.00      1.00      1.00       298\n",
      "          74       1.00      1.00      1.00       283\n",
      "          75       1.00      1.00      1.00       270\n",
      "          76       1.00      1.00      1.00       278\n",
      "          77       1.00      1.00      1.00       263\n",
      "          78       1.00      1.00      1.00       270\n",
      "          79       1.00      1.00      1.00       274\n",
      "          80       0.98      0.97      0.98       282\n",
      "          81       1.00      1.00      1.00       259\n",
      "          82       1.00      1.00      1.00       548\n",
      "          83       1.00      1.00      1.00       276\n",
      "          84       1.00      1.00      1.00       226\n",
      "          85       1.00      1.00      1.00       280\n",
      "          86       0.99      1.00      0.99       252\n",
      "          87       1.00      1.00      1.00       283\n",
      "          88       1.00      1.00      1.00       540\n",
      "          89       1.00      1.00      1.00       285\n",
      "          90       1.00      1.00      1.00       275\n",
      "          91       1.00      1.00      1.00       254\n",
      "          92       1.00      1.00      1.00       274\n",
      "          93       1.00      1.00      1.00       262\n",
      "          94       1.00      1.00      1.00       270\n",
      "          95       1.00      1.00      1.00       292\n",
      "          96       0.94      0.94      0.94       258\n",
      "          97       1.00      1.00      1.00       170\n",
      "          98       1.00      1.00      1.00       263\n",
      "          99       1.00      1.00      1.00       263\n",
      "         100       1.00      1.00      1.00       270\n",
      "         101       1.00      1.00      1.00       258\n",
      "         102       1.00      1.00      1.00       280\n",
      "         103       1.00      1.00      1.00       270\n",
      "         104       1.00      1.00      1.00       548\n",
      "         105       1.00      1.00      1.00       299\n",
      "         106       1.00      1.00      1.00       261\n",
      "         107       1.00      1.00      1.00       282\n",
      "         108       1.00      1.00      1.00       291\n",
      "         109       1.00      1.00      1.00       287\n",
      "         110       1.00      1.00      1.00       257\n",
      "         111       1.00      1.00      1.00       280\n",
      "         112       1.00      1.00      1.00       301\n",
      "         113       1.00      1.00      1.00       265\n",
      "         114       1.00      1.00      1.00       269\n",
      "         115       1.00      0.99      1.00       196\n",
      "         116       1.00      1.00      1.00       283\n",
      "         117       1.00      1.00      1.00       283\n",
      "         118       1.00      1.00      1.00       261\n",
      "         119       1.00      1.00      1.00       256\n",
      "         120       1.00      1.00      1.00       571\n",
      "         121       1.00      1.00      1.00       276\n",
      "         122       1.00      1.00      1.00       277\n",
      "         123       1.00      1.00      1.00       264\n",
      "         124       1.00      0.99      1.00       259\n",
      "         125       1.00      1.00      1.00       258\n",
      "         126       1.00      1.00      1.00       269\n",
      "         127       0.97      0.99      0.98       279\n",
      "         128       1.00      1.00      1.00       294\n",
      "         129       1.00      1.00      1.00       271\n",
      "         130       1.00      1.00      1.00       250\n",
      "         131       1.00      1.00      1.00       271\n",
      "         132       1.00      1.00      1.00       269\n",
      "         133       1.00      1.00      1.00       184\n",
      "         134       1.00      1.00      1.00       276\n",
      "         135       1.00      1.00      1.00       265\n",
      "         136       1.00      1.00      1.00       296\n",
      "         137       1.00      1.00      1.00       258\n",
      "         138       1.00      1.00      1.00       286\n",
      "         139       1.00      1.00      1.00       259\n",
      "         140       1.00      1.00      1.00       290\n",
      "         141       1.00      1.00      1.00       280\n",
      "         142       1.00      1.00      1.00       280\n",
      "         143       1.00      1.00      1.00       257\n",
      "         144       1.00      1.00      1.00       271\n",
      "         145       0.98      0.98      0.98       297\n",
      "         146       1.00      1.00      1.00       287\n",
      "         147       1.00      1.00      1.00       269\n",
      "         148       1.00      1.00      1.00       283\n",
      "         149       1.00      1.00      1.00       267\n",
      "         150       1.00      1.00      1.00       265\n",
      "         151       1.00      1.00      1.00       272\n",
      "         152       1.00      1.00      1.00       286\n",
      "         153       1.00      1.00      1.00       262\n",
      "         154       1.00      1.00      1.00       285\n",
      "         155       1.00      1.00      1.00       258\n",
      "         156       1.00      1.00      1.00       288\n",
      "         157       1.00      1.00      1.00       296\n",
      "         158       1.00      1.00      1.00       291\n",
      "         159       1.00      1.00      1.00       257\n",
      "         160       1.00      1.00      1.00       279\n",
      "         161       1.00      1.00      1.00       297\n",
      "         162       1.00      1.00      1.00       299\n",
      "         163       1.00      1.00      1.00       267\n",
      "         164       1.00      1.00      1.00       292\n",
      "         165       1.00      1.00      1.00       274\n",
      "         166       1.00      1.00      1.00       272\n",
      "         167       1.00      1.00      1.00       268\n",
      "         168       1.00      1.00      1.00       284\n",
      "         169       1.00      1.00      1.00       284\n",
      "         170       1.00      1.00      1.00       243\n",
      "         171       1.00      1.00      1.00       283\n",
      "         172       1.00      1.00      1.00       286\n",
      "         173       1.00      1.00      1.00       260\n",
      "         174       1.00      0.99      0.99       288\n",
      "         175       0.93      0.98      0.96       265\n",
      "         176       1.00      1.00      1.00       312\n",
      "         177       0.99      0.93      0.96       287\n",
      "         178       1.00      1.00      1.00       277\n",
      "         179       1.00      1.00      1.00       270\n",
      "         180       1.00      1.00      1.00       245\n",
      "         181       1.00      1.00      1.00       250\n",
      "         182       1.00      1.00      1.00       255\n",
      "         183       0.99      0.98      0.98       283\n",
      "         184       1.00      1.00      1.00       247\n",
      "         185       1.00      1.00      1.00       255\n",
      "         186       1.00      1.00      1.00       297\n",
      "         187       1.00      1.00      1.00       308\n",
      "         188       1.00      1.00      1.00       275\n",
      "         189       0.98      0.99      0.99       255\n",
      "         190       1.00      1.00      1.00       298\n",
      "         191       1.00      1.00      1.00       526\n",
      "         192       1.00      1.00      1.00       282\n",
      "         193       1.00      1.00      1.00       295\n",
      "         194       1.00      1.00      1.00       284\n",
      "         195       1.00      1.00      1.00       268\n",
      "         196       1.00      1.00      1.00       287\n",
      "         197       1.00      1.00      1.00       264\n",
      "         198       1.00      1.00      1.00       190\n",
      "         199       1.00      1.00      1.00       264\n",
      "         200       1.00      1.00      1.00       275\n",
      "         201       0.98      0.99      0.98       274\n",
      "         202       1.00      1.00      1.00       265\n",
      "         203       1.00      1.00      1.00       272\n",
      "         204       1.00      1.00      1.00       278\n",
      "         205       1.00      1.00      1.00       259\n",
      "         206       0.99      0.99      0.99       271\n",
      "         207       1.00      1.00      1.00       264\n",
      "         208       1.00      1.00      1.00       266\n",
      "         209       1.00      1.00      1.00       313\n",
      "         210       1.00      1.00      1.00       185\n",
      "         211       1.00      1.00      1.00       283\n",
      "         212       1.00      1.00      1.00       278\n",
      "         213       1.00      1.00      1.00       295\n",
      "         214       1.00      1.00      1.00       283\n",
      "         215       1.00      1.00      1.00       272\n",
      "         216       1.00      1.00      1.00       280\n",
      "         217       1.00      1.00      1.00       256\n",
      "         218       0.99      0.99      0.99       282\n",
      "         219       1.00      1.00      1.00       261\n",
      "         220       0.99      1.00      1.00       266\n",
      "         221       1.00      1.00      1.00       286\n",
      "         222       1.00      1.00      1.00       283\n",
      "         223       1.00      1.00      1.00       215\n",
      "         224       0.99      0.99      0.99       268\n",
      "         225       1.00      1.00      1.00       263\n",
      "         226       1.00      1.00      1.00       254\n",
      "         227       1.00      1.00      1.00       308\n",
      "         228       1.00      1.00      1.00       178\n",
      "         229       1.00      1.00      1.00       265\n",
      "         230       1.00      1.00      1.00       313\n",
      "         231       1.00      1.00      1.00       292\n",
      "         232       1.00      1.00      1.00       282\n",
      "         233       1.00      0.97      0.98       280\n",
      "         234       1.00      1.00      1.00       551\n",
      "         235       1.00      1.00      1.00       278\n",
      "         236       1.00      1.00      1.00       277\n",
      "         237       0.99      1.00      0.99       272\n",
      "         238       1.00      1.00      1.00       272\n",
      "         239       1.00      1.00      1.00       241\n",
      "         240       1.00      1.00      1.00       258\n",
      "         241       1.00      1.00      1.00       268\n",
      "         242       1.00      1.00      1.00       258\n",
      "         243       1.00      1.00      1.00       280\n",
      "         244       1.00      1.00      1.00       243\n",
      "         245       1.00      1.00      1.00       256\n",
      "         246       1.00      1.00      1.00       288\n",
      "         247       1.00      1.00      1.00       264\n",
      "         248       1.00      1.00      1.00       270\n",
      "         249       1.00      1.00      1.00       296\n",
      "         250       1.00      1.00      1.00       271\n",
      "         251       1.00      1.00      1.00       279\n",
      "         252       1.00      1.00      1.00       258\n",
      "         253       1.00      1.00      1.00       291\n",
      "         254       1.00      1.00      1.00       200\n",
      "         255       1.00      1.00      1.00       275\n",
      "         256       1.00      1.00      1.00       186\n",
      "         257       1.00      1.00      1.00       276\n",
      "         258       1.00      1.00      1.00       307\n",
      "         259       1.00      1.00      1.00       263\n",
      "         260       1.00      1.00      1.00       274\n",
      "         261       1.00      1.00      1.00       547\n",
      "         262       1.00      1.00      1.00       543\n",
      "         263       1.00      1.00      1.00       278\n",
      "         264       1.00      1.00      1.00       271\n",
      "         265       1.00      1.00      1.00       285\n",
      "         266       1.00      1.00      1.00       292\n",
      "         267       0.90      0.93      0.91       243\n",
      "         268       1.00      1.00      1.00       296\n",
      "         269       1.00      1.00      1.00       270\n",
      "         270       1.00      1.00      1.00       273\n",
      "         271       1.00      1.00      1.00       276\n",
      "         272       1.00      1.00      1.00       261\n",
      "         273       1.00      1.00      1.00       282\n",
      "         274       1.00      1.00      1.00       280\n",
      "         275       1.00      1.00      1.00       303\n",
      "         276       1.00      1.00      1.00       304\n",
      "         277       1.00      1.00      1.00       280\n",
      "         278       1.00      1.00      1.00       255\n",
      "         279       1.00      1.00      1.00       274\n",
      "         280       1.00      1.00      1.00       285\n",
      "         281       1.00      1.00      1.00       293\n",
      "         282       1.00      1.00      1.00       269\n",
      "         283       1.00      1.00      1.00       263\n",
      "         284       1.00      1.00      1.00       272\n",
      "         285       1.00      1.00      1.00       280\n",
      "         286       1.00      1.00      1.00       269\n",
      "         287       1.00      1.00      1.00       275\n",
      "\n",
      "    accuracy                           1.00     80368\n",
      "   macro avg       1.00      1.00      1.00     80368\n",
      "weighted avg       1.00      1.00      1.00     80368\n",
      "\n"
     ]
    }
   ],
   "source": [
    "cm = confusion_matrix(y_test, y_pred_rf)\n",
    "print(\"Confusion Matrix:\\n\", cm)\n",
    "\n",
    "class_names = [str(cls) for cls in encoder_drug_name.classes_]\n",
    "report = classification_report(y_test, y_pred_rf, target_names=class_names)\n",
    "print(\"Classification Report:\\n\", report)\n"
   ]
  },
  {
   "cell_type": "markdown",
   "metadata": {},
   "source": [
    "A confusion matrix and classification report are generated to provide more detailed evaluation metrics for the random forest model"
   ]
  },
  {
   "cell_type": "markdown",
   "metadata": {},
   "source": [
    "## **12. Feature Importance**"
   ]
  },
  {
   "cell_type": "code",
   "execution_count": null,
   "metadata": {},
   "outputs": [
    {
     "name": "stdout",
     "output_type": "stream",
     "text": [
      "Feature ranking:\n",
      "1. feature 5 (0.3633798555090039) - log_ic50_mean_neg\n",
      "2. feature 0 (0.3091026202651877) - Drug target\n",
      "3. feature 1 (0.18556015724068856) - Target Pathway\n",
      "4. feature 4 (0.10638770037250411) - log_ic50_mean_pos\n",
      "5. feature 3 (0.025587394013231197) - ic50_effect_size\n",
      "6. feature 2 (0.009982272599384556) - Feature Name\n"
     ]
    },
    {
     "data": {
      "image/png": "[encoded data removed]",
      "text/plain": [
       "<Figure size 640x480 with 1 Axes>"
      ]
     },
     "metadata": {},
     "output_type": "display_data"
    }
   ],
   "source": [
    "importances = rf_model.feature_importances_\n",
    "indices = np.argsort(importances)[::-1]\n",
    "\n",
    "print(\"Feature ranking:\")\n",
    "for f in range(X.shape[1]):\n",
    "    print(f\"{f + 1}. feature {indices[f]} ({importances[indices[f]]}) - {selected_features[indices[f]]}\")\n",
    "\n",
    "plt.figure()\n",
    "plt.title(\"Feature importances\")\n",
    "plt.bar(range(X.shape[1]), importances[indices], align=\"center\")\n",
    "plt.xticks(range(X.shape[1]), [selected_features[i] for i in indices], rotation=90)\n",
    "plt.xlim([-1, X.shape[1]])\n",
    "plt.show()\n"
   ]
  },
  {
   "cell_type": "markdown",
   "metadata": {},
   "source": [
    "The importance of each feature in the random forest model is computed and plotted to understand which features contribute most to the predictions."
   ]
  },
  {
   "cell_type": "markdown",
   "metadata": {},
   "source": [
    "## **13. Predicting Drug Name Based on User Input**"
   ]
  },
  {
   "cell_type": "code",
   "execution_count": null,
   "metadata": {},
   "outputs": [],
   "source": [
    "def predict_drug(model):\n",
    "    print(\"Please enter the following details:\")\n",
    "    input_data = pd.DataFrame(np.zeros((1, len(selected_features))), columns=selected_features)\n",
    "    \n",
    "    for feature in selected_features:\n",
    "        if data[feature].dtype == 'object':\n",
    "            value = input(f\"Enter {feature} (type: text): \")\n",
    "            input_data[feature] = encoder_features.transform([value])\n",
    "        else:\n",
    "            value = float(input(f\"Enter {feature} (type: number): \"))\n",
    "            input_data[feature] = value\n",
    "\n",
    "    input_data[numerical_cols] = scaler.transform(input_data[numerical_cols])\n",
    "    prediction_encoded = model.predict(input_data)\n",
    "    prediction = encoder_drug_name.inverse_transform(prediction_encoded)\n",
    "    return prediction[0]\n"
   ]
  },
  {
   "cell_type": "markdown",
   "metadata": {},
   "source": [
    "A function is defined to predict the drug name based on user input. The function:\n",
    "\n",
    "Collects input for each feature from the user.\n",
    "Encodes and scales the input appropriately.\n",
    "Predicts the drug name using the given model (logistic regression or random forest).\n",
    "Decodes the predicted label back to the original drug name.\n"
   ]
  },
  {
   "cell_type": "markdown",
   "metadata": {},
   "source": [
    "## **14. Predicting Drug Name Using Models**"
   ]
  },
  {
   "cell_type": "code",
   "execution_count": null,
   "metadata": {},
   "outputs": [
    {
     "name": "stdout",
     "output_type": "stream",
     "text": [
      "Please enter the following details:\n",
      "Predicted Drug Name using Random Forest: 21\n"
     ]
    }
   ],
   "source": [
    "# predicted_drug_logistic = predict_drug(logistic_model)\n",
    "# print(\"Predicted Drug Name using Logistic Regression:\", predicted_drug_logistic)\n",
    "\n",
    "predicted_drug_rf = predict_drug(rf_model)\n",
    "print(\"Predicted Drug Name using Random Forest:\", predicted_drug_rf)\n"
   ]
  },
  {
   "cell_type": "markdown",
   "metadata": {},
   "source": [
    "The prediction function is used with both the logistic regression and random forest models to predict the drug name based on user input.\n",
    "\n",
    "Overall, the script is designed to:\n",
    "\n",
    "Load and preprocess a dataset.\n",
    "Train and evaluate machine learning models.\n",
    "Provide detailed performance metrics.\n",
    "Predict outcomes based on user inputs using trained models.\n"
   ]
  }
 ],
 "metadata": {
  "kernelspec": {
   "display_name": "Python 3",
   "language": "python",
   "name": "python3"
  },
  "language_info": {
   "codemirror_mode": {
    "name": "ipython",
    "version": 3
   },
   "file_extension": ".py",
   "mimetype": "text/x-python",
   "name": "python",
   "nbconvert_exporter": "python",
   "pygments_lexer": "ipython3",
   "version": "3.11.4"
  }
 },
 "nbformat": 4,
 "nbformat_minor": 2
}
